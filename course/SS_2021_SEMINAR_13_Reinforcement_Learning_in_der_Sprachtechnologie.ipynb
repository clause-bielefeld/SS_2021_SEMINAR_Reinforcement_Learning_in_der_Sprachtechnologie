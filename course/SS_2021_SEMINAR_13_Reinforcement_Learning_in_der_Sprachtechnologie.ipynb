{
 "cells": [
  {
   "cell_type": "markdown",
   "id": "9659b042",
   "metadata": {},
   "source": [
    "# SS 2021 SEMINAR 13 Reinforcement Learning in der Sprachtechnologie\n",
    "## Reinforcement Learning Based Speech Agents III "
   ]
  },
  {
   "cell_type": "markdown",
   "id": "c3d3fe9b",
   "metadata": {
    "tags": []
   },
   "source": [
    "### Announcements\n",
    "\n",
    "#### Homework\n",
    "        \n",
    "* DEADLINE: JULY 14th\n",
    "* for the people who will submit before the seminar, i will try to already fix your marks and send the split (presentation/h1/h2/h1) to you in a private chat message\n",
    "\n",
    "#### Today\n",
    "\n",
    "* Take a detailed look into the textgames example\n",
    "\n",
    "* Starting with RL trained dialogue agents\n",
    "\n",
    "#### Last Seminar\n",
    "\n",
    "* Feedback on the presentations and homework\n",
    "\n",
    "* QA ? \n",
    "\n",
    "* Discussion? Which Topics? \n",
    "\n",
    "* Is there something you are especially interested in? (RL, NLP, OpenAIClip, Transformers, PyTorch, ....)\n",
    "\n",
    "* Implement the Dialogue Agent from today? \n",
    "\n",
    "* ?\n",
    "\n",
    "=> NEXT WEEK WE ARE GOING TO SPEAK ABOUT **AlphaGo** \n",
    "\n",
    "\n",
    "***"
   ]
  },
  {
   "cell_type": "markdown",
   "id": "6bcc6ef6",
   "metadata": {},
   "source": [
    "### A) Paper Presentation: Deep Reinforcement Learning for Dialogue Generation"
   ]
  },
  {
   "cell_type": "markdown",
   "id": "e060b6f4",
   "metadata": {},
   "source": [
    "https://github.com/clause-bielefeld/SS_2021_SEMINAR_Reinforcement_Learning_in_der_Sprachtechnologie/blob/main/materials/2021_07_07_Deep_Reinforcement_Learning_for_Dialogue_Generation_annotated.pdf"
   ]
  },
  {
   "cell_type": "markdown",
   "id": "1a495db0",
   "metadata": {},
   "source": [
    "### Discussion\n",
    "\n",
    "\n",
    "\n",
    "***"
   ]
  },
  {
   "cell_type": "markdown",
   "id": "87a5e63d",
   "metadata": {},
   "source": [
    "### B) Theory"
   ]
  },
  {
   "cell_type": "markdown",
   "id": "d44f0708",
   "metadata": {},
   "source": [
    "Training Dialogue Agents based on Reinforcement Learning: \n",
    "\n",
    "Okay, now we saw, how to train speech bots using **Self-Critical-Sequence-Training**.\n",
    "\n",
    "The idea here was to initialize our model by using a standard sequence to sequence model, which is trained to produce\n",
    "the most likely output for a given input. \n",
    "\n",
    "![alt_text](https://miro.medium.com/max/688/1*ZpB4PxOvLGZ0uEEqMDg_5w.png \"\")\n",
    "\n",
    "\n",
    "After that, the model is incentiviced with a **REWARD** in form of a higher BLEU score or some shaped reward function and the generated sequences are optimized towards that reward function. \n",
    "\n",
    "![alt_text](https://www.researchgate.net/profile/Denise-Kuehnert/publication/260395360/figure/fig1/AS:614012995792920@1523403514617/Sequentially-sampled-birth-death-sampling-tree-a-Full-transmission-tree-with-birth.png \"\")\n",
    "\n",
    "![alt_text](https://miro.medium.com/max/725/1*NyWUkwz1QhrVJj9ygCQ5nA.png \"\")\n",
    "\n",
    "***\n",
    "\n",
    "We also saw how to solve TEXTGAMES by using our vocabulary, \n",
    "\n",
    "or at least a restricted part of it, as our ACTIONS in combination with (DEEP) Q-Learning to **pick the right words, in the right situation**.\n",
    "\n",
    "![alt_text](https://www.researchgate.net/profile/Monty-Lynn/publication/314571561/figure/tbl2/AS:669302747312129@1536585618188/Most-common-vocabulary-words-in-conference-proceedings.png \"\")\n",
    "\n",
    "We can then apply normal Q-Learning, to find the best word/sentence to say in which situation: \n",
    "\n",
    "![alt_text](https://miro.medium.com/max/725/1*NyWUkwz1QhrVJj9ygCQ5nA.png \"\")\n",
    "\n",
    "![alt_text](https://cdn.analyticsvidhya.com/wp-content/uploads/2019/04/Screenshot-2019-04-16-at-5.46.01-PM.png \"\")\n",
    "\n",
    "***\n",
    "\n",
    "When training a Reinforcement Learning Agent in a Dialogue Setup, lets think about the things we have to decide: \n",
    "\n",
    "STATE SPACE:\n",
    "\n",
    "STATE:\n",
    "\n",
    "ACTION SPACE:\n",
    "\n",
    "ACTION:\n",
    "\n",
    "REWARD FUNCTION: \n",
    "\n",
    "* \n",
    "\n",
    "\n",
    "Important CONCEPTS:\n",
    "\n",
    "GOAL: topic, intent\n",
    "\n",
    "MEMORY: \n",
    "\n",
    "\n"
   ]
  },
  {
   "cell_type": "markdown",
   "id": "ec6aa5bf",
   "metadata": {},
   "source": [
    "## C) Practice"
   ]
  },
  {
   "cell_type": "markdown",
   "id": "90fa6438",
   "metadata": {},
   "source": [
    " **RL in Python**\n",
    "\n",
    "Unfortunately, microsofts version is incompatible with the new openai API ....\n",
    "\n",
    "So I used the google colab implementation of the author Maxim Lapan, which you can find here: \n",
    "\n",
    "https://colab.research.google.com/github/yfletberliac/rlss-2019/blob/master/labs/final_project/TextWorld.ipynb"
   ]
  },
  {
   "cell_type": "markdown",
   "id": "89cc3dba",
   "metadata": {},
   "source": [
    "# TODO's\n",
    "\n",
    "1. Send your finished presentations (+ possibly annotated paper) by **Monday 12.00 AM/midnight** via email to henrik.voigt@uni-jena.de\n",
    "\n",
    "2. Send your little HOMEWORK to henrik.voigt@uni-jena.de by using the naming convention: HOMEWORK_02_FIRSTNAME_LASTNAME.ipynb until **July 14th 12.00 AM/midnight**\n",
    "\n",
    "***\n"
   ]
  }
 ],
 "metadata": {
  "kernelspec": {
   "display_name": "pytorch-env-kernel",
   "language": "python",
   "name": "pytorch-env-kernel"
  },
  "language_info": {
   "codemirror_mode": {
    "name": "ipython",
    "version": 3
   },
   "file_extension": ".py",
   "mimetype": "text/x-python",
   "name": "python",
   "nbconvert_exporter": "python",
   "pygments_lexer": "ipython3",
   "version": "3.8.8"
  }
 },
 "nbformat": 4,
 "nbformat_minor": 5
}
